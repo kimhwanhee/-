{
  "nbformat": 4,
  "nbformat_minor": 0,
  "metadata": {
    "colab": {
      "name": "Untitled0.ipynb",
      "provenance": [],
      "authorship_tag": "ABX9TyPXi0HbdZtDrodRLgGrdFdA",
      "include_colab_link": true
    },
    "kernelspec": {
      "name": "python3",
      "display_name": "Python 3"
    }
  },
  "cells": [
    {
      "cell_type": "markdown",
      "metadata": {
        "id": "view-in-github",
        "colab_type": "text"
      },
      "source": [
        "<a href=\"https://colab.research.google.com/github/kimhwanhee/-/blob/master/Untitled0.ipynb\" target=\"_parent\"><img src=\"https://colab.research.google.com/assets/colab-badge.svg\" alt=\"Open In Colab\"/></a>"
      ]
    },
    {
      "cell_type": "code",
      "metadata": {
        "id": "pb7vzBNZPT8_",
        "colab_type": "code",
        "colab": {}
      },
      "source": [
        ""
      ],
      "execution_count": 0,
      "outputs": []
    },
    {
      "cell_type": "markdown",
      "metadata": {
        "id": "SoTWFk7cPYNz",
        "colab_type": "text"
      },
      "source": [
        "\n",
        "인공지능에 대한 사례들\n",
        "언어에 관한 사례들 : 파파고, 구글번역기,유튜브에서 나오는 자동 영어 번역 자막등과 같은 것들\n",
        "\n",
        "음성에 관한 것들 : 삼성의 빅스비, 애플의 시리(siri)등과 같은 챗봇, 네이버혹은 구글의 노래 찾기 기능\n",
        "\n",
        "이미지에 관한 것들: 네이버에 스캔기능을 활용한 제품확인\n",
        "\n",
        "자율주행에 관한 것들 :구글의 무인주행자동차, 네비게이션과 같은 기능들"
      ]
    }
  ]
}